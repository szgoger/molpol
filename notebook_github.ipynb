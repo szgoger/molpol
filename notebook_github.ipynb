{
 "cells": [
  {
   "cell_type": "code",
   "execution_count": 1,
   "id": "9d50bf37",
   "metadata": {},
   "outputs": [],
   "source": [
    "# Loading the modules used for the analysis\n",
    "\n",
    "import numpy as np     # To be able to store our numbers in numpy formats already\n",
    "from sklearn.linear_model import LinearRegression\n",
    "from scipy.optimize import curve_fit\n",
    "import matplotlib.pyplot as plt\n",
    "import matplotlib.cm as cm\n",
    "import matplotlib\n",
    "from numpy import random\n",
    "import pandas as pd # Pandas should facilitate a cleaner data analysis\n",
    "import seaborn as sns\n",
    "from sklearn.metrics import mutual_info_score\n",
    "from sklearn.feature_selection import mutual_info_regression\n",
    "from scipy.stats import wasserstein_distance\n",
    "import itertools\n",
    "from scipy import stats\n",
    "\n",
    "\n",
    "plt.rcParams['figure.figsize'] = [12, 7] # Size of the graphs in inches\n",
    "\n",
    "evenly_spaced_interval = np.linspace(0, 1, 19)\n",
    "\n",
    "colors = [cm.tab20(x) for x in evenly_spaced_interval]"
   ]
  },
  {
   "cell_type": "markdown",
   "id": "8ef6b929",
   "metadata": {},
   "source": [
    "### Pre-curating the data\n",
    "\n",
    "The data will be imported as a list of dictionaries. We also do some pre-processing to get rid of structures where the functional group detection had failed as well as those for which DFT polarizability is not available"
   ]
  },
  {
   "cell_type": "code",
   "execution_count": 2,
   "id": "4448e3d8",
   "metadata": {},
   "outputs": [],
   "source": [
    "import pickle    # The data was saved as a pickle file to make reading and transferring easier\n",
    "data = []\n",
    "with open('pickled_data_rev2.txt', 'rb') as file:\n",
    "        try:\n",
    "                while True: # Here go all the operations, element by element\n",
    "                        currdata = pickle.load(file)\n",
    "                        if \"-c1-\" in str(currdata[0][1]): # We are NOT interested in conformers, we only load the first conformer for every data here\n",
    "                                data.append(currdata)\n",
    "        except EOFError: # Finished with the reading\n",
    "            pass"
   ]
  },
  {
   "cell_type": "code",
   "execution_count": 3,
   "id": "be75f363",
   "metadata": {},
   "outputs": [
    {
     "name": "stdout",
     "output_type": "stream",
     "text": [
      "13278\n"
     ]
    }
   ],
   "source": [
    "# Creating a list of dictionaries that can be searched for various properties\n",
    "# The only goal is to make the file more readable\n",
    "                    \n",
    "alldata = []\n",
    "\n",
    "for entry in data:\n",
    "    alldata.append( { 'molid': entry[0][0], 'confid': entry[0][1] , 'atypes': entry[0][2], \n",
    "            'hlgap': entry[0][3][0], 'mbd_alpha': entry[0][4][0], 'size': entry[0][5], \n",
    "            'dft_alpha': entry[0][6], 'groups': entry[0][7] } )\n",
    "    \n",
    "# An example to filter the dataset to all molecules where no functional groups are detected at all\n",
    "\n",
    "#list(filter(lambda nogroup: nogroup['groups'] == ['not found'], alldata))\n",
    "\n",
    "print(len(alldata))"
   ]
  },
  {
   "cell_type": "code",
   "execution_count": 4,
   "id": "ae470d8f",
   "metadata": {},
   "outputs": [],
   "source": [
    "# Removing all elements where zero functional groups have been detected\n",
    "\n",
    "nogroups = list(filter(lambda nogroup: nogroup['groups'] == ['not found'], alldata))\n",
    "\n",
    "alldata_withgroups = [item for item in alldata if item not in nogroups]\n",
    "\n",
    "del nogroups # freeing up memory\n",
    "alldata = alldata_withgroups\n",
    "del alldata_withgroups"
   ]
  },
  {
   "cell_type": "code",
   "execution_count": 5,
   "id": "941e3b1e",
   "metadata": {},
   "outputs": [],
   "source": [
    "# Adding a few more numbers to the dictionaries\n",
    "\n",
    "ii=0\n",
    "for entry in alldata:\n",
    "    alphas, atoms, sizes = entry[\"dft_alpha\"], entry[\"atypes\"], entry[\"size\"]\n",
    "    alldata[ii].update( { 'dft_alpha_avg' : (alphas[0]+alphas[1]+alphas[2])/3, \n",
    "                      \"nelectrons\" : np.float64( np.sum( atoms)), \"maxsize\" : np.float64(sizes[0])} )\n",
    "    ii+=1"
   ]
  },
  {
   "cell_type": "code",
   "execution_count": 6,
   "id": "a2605f6f",
   "metadata": {},
   "outputs": [],
   "source": [
    "# Removing cases where the DFT calculation had failed\n",
    "\n",
    "nopol = list(filter(lambda failed_pol: failed_pol['dft_alpha_avg'] < -90, alldata))\n",
    "\n",
    "alldata_withpol = [item for item in alldata if item not in nopol]\n",
    "\n",
    "del nopol # freeing up memory\n",
    "alldata = alldata_withpol\n",
    "del alldata_withpol"
   ]
  },
  {
   "cell_type": "markdown",
   "id": "80a8fede",
   "metadata": {},
   "source": [
    "### Loading the data is done\n",
    "\n",
    "The points are stored in alldata. An example data point is"
   ]
  },
  {
   "cell_type": "code",
   "execution_count": 7,
   "id": "c3053697",
   "metadata": {
    "scrolled": true
   },
   "outputs": [
    {
     "name": "stdout",
     "output_type": "stream",
     "text": [
      "molid  :  168\n",
      "confid  :  Geom-m168-i2-c1-opt\n",
      "atypes  :  [6 6 6 6 8 1 1 1 1 1 1]\n",
      "hlgap  :  8.036732\n",
      "mbd_alpha  :  63.485137\n",
      "size  :  [5.588716978592045, 1.537705, 0.9684630000000001, 3.104132]\n",
      "dft_alpha  :  [47.31031, 50.0454, 54.54521, 7.58871, -6.22808, -10.2374]\n",
      "groups  :  ['secondary alcohol', 'alkyne']\n",
      "dft_alpha_avg  :  50.63363999999999\n",
      "nelectrons  :  38.0\n",
      "maxsize  :  5.588716978592045\n"
     ]
    }
   ],
   "source": [
    "for key, value in alldata[100].items():\n",
    "    print(key, ' : ', value)"
   ]
  }
 ],
 "metadata": {
  "kernelspec": {
   "display_name": "Python 3 (ipykernel)",
   "language": "python",
   "name": "python3"
  },
  "language_info": {
   "codemirror_mode": {
    "name": "ipython",
    "version": 3
   },
   "file_extension": ".py",
   "mimetype": "text/x-python",
   "name": "python",
   "nbconvert_exporter": "python",
   "pygments_lexer": "ipython3",
   "version": "3.8.10"
  }
 },
 "nbformat": 4,
 "nbformat_minor": 5
}
